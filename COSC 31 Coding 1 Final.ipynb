{
 "cells": [
  {
   "cell_type": "markdown",
   "metadata": {},
   "source": [
    "COSC 31 Coding Assignment 1\n",
    "\n",
    "Callie Moody and Perry Zhang \n",
    "\n",
    "Credit Statement: We did not go to office hours or discuss with other people on this assignment.\n",
    "\n",
    "4/10/2022"
   ]
  },
  {
   "cell_type": "code",
   "execution_count": 111,
   "metadata": {},
   "outputs": [],
   "source": [
    "import math\n",
    "\n",
    "#1b. Please submit the code you have written\n",
    "\n",
    "\n",
    "#divide receives two integers, a and b #\n",
    "#divide returns:\n",
    "#the integer quotient a/b, \n",
    "#the remainder of the equation, \n",
    "#and the run time of the program#\n",
    "def divide(a,b):\n",
    "    #checking base cases\n",
    "    if b==1:\n",
    "        return a, 0, 0 \n",
    "    elif a==b:\n",
    "        return 1, 0, 0 \n",
    "    elif a<b:\n",
    "        return 0, a, 0 \n",
    "    #recursive case\n",
    "    else:\n",
    "        x= math.floor(a/2) \n",
    "        q,r,t=divide(x,b)  \n",
    "        q=q*2 \n",
    "        r=r*2 \n",
    "        if a%2==1:\n",
    "            r=r+1 \n",
    "            t+=1\n",
    "        if r>=b:\n",
    "            t+= len(str(r))\n",
    "            r=r-b\n",
    "            q=q+1\n",
    "            t+= 1\n",
    "        return q,r,t"
   ]
  },
  {
   "cell_type": "code",
   "execution_count": 7,
   "metadata": {},
   "outputs": [
    {
     "data": {
      "text/plain": [
       "(14, 555706, 26)"
      ]
     },
     "execution_count": 7,
     "metadata": {},
     "output_type": "execute_result"
    }
   ],
   "source": [
    "divide(30294982,2124234)"
   ]
  },
  {
   "cell_type": "markdown",
   "metadata": {},
   "source": [
    "1a) Please write down the quotient, remainder, and “run time” when you divide 30294982 by 2124234.(5 points)\n",
    "\n",
    "quotient: 14\n",
    "\n",
    "remainder: 555706\n",
    "\n",
    "run time: 26"
   ]
  },
  {
   "cell_type": "code",
   "execution_count": 9,
   "metadata": {},
   "outputs": [],
   "source": [
    "# Importing libraries\n",
    "import time\n",
    "from matplotlib import pyplot as plt\n",
    "import math\n",
    "import numpy as np\n",
    "import pprint\n",
    "# time.time() for beginning and end"
   ]
  },
  {
   "cell_type": "code",
   "execution_count": 10,
   "metadata": {},
   "outputs": [],
   "source": [
    "# 2a.  Firstly, we want you to implement the naive algorithm for counting inversions which goes over all\n",
    "# pairs and just counts the number of inversions.\n",
    "\n",
    "\n",
    "#NaiveInversions recieves an array of integers\n",
    "#it iterates through the array to find all inversions\n",
    "#NaiveInversions returns the number of inversions in the array (out of order number pairs)\n",
    "def NaiveInversions(A):\n",
    "    inversions = 0;\n",
    "    #checks each element\n",
    "    for i in range(0, len(A)-1):\n",
    "        #interates through elements i needs to be compared to\n",
    "        for j in range(i, len(A)):\n",
    "            if(A[i] > A[j]):\n",
    "                inversions += 1        \n",
    "    return inversions"
   ]
  },
  {
   "cell_type": "code",
   "execution_count": 122,
   "metadata": {},
   "outputs": [],
   "source": [
    "#2b. Secondly, we want you to implement the faster algorithm done in class/found in lecture notes.\n",
    "\n",
    "\n",
    "#A divide-and-conquer algorithm to count inversions\n",
    "#SortAndCount recieves an array of integers\n",
    "#it iterates through the array to find all inversions\n",
    "#NaiveInversions returns:\n",
    "#the sorted input array,\n",
    "#the number of inversions in the array\n",
    "def SortAndCount(A):\n",
    "    #checking base case\n",
    "    if(len(A) <= 1):\n",
    "        return (A,0)\n",
    "    \n",
    "    #split into two subarrays ant count inversions within them\n",
    "    m = math.floor(len(A)/2)\n",
    "    B_1,I_1 = SortAndCount(A[0:m]) \n",
    "    B_2,I_2 = SortAndCount(A[m:]) \n",
    "    \n",
    "    #combine the subarrays and count crossover inversions\n",
    "    C = CountCrossInversions(B_1, B_2)\n",
    "    B = combine(B_1,B_2)\n",
    "    \n",
    "    #add and return the total inversions\n",
    "    total=I_1+I_2+C\n",
    "    return (B,total)\n",
    "    \n",
    "    \n",
    "#CountCrossInversions recieves two sorted integer arrays\n",
    "#CountCrossInversions returns the number of pairs of elements between the first and second arrays \n",
    "    #such that the element from the first array is larger than that from the second\n",
    "def CountCrossInversions(A, B):\n",
    "    crossinversions = 0\n",
    "    i = 0\n",
    "    j = 0\n",
    "    \n",
    "    #iterate throught the arrays to see how many pairs exist such A[x]>B[y]\n",
    "    while(i < len(A) and j < len(B)):\n",
    "        if(A[i] > B[j]):\n",
    "            crossinversions += (len(A) - i)\n",
    "            j += 1\n",
    "        else:\n",
    "            i += 1\n",
    "    return crossinversions\n",
    "\n",
    "#combine receives two sorted integer arrays\n",
    "#combine returns one integer array containing all the elements from each array, still sorted\n",
    "def combine(A,B):\n",
    "    a=len(A)\n",
    "    b=len(B)\n",
    "    i=0\n",
    "    j=0\n",
    "    K=[]\n",
    "    \n",
    "    #where the arrays overlap, add elements in sorted order, one by one\n",
    "    while i<a and j<b:\n",
    "        if A[i]<B[j]:\n",
    "            K.append(A[i])\n",
    "            i+=1\n",
    "        else:\n",
    "            K.append(B[j])\n",
    "            j+=1\n",
    "            \n",
    "    #add the remaining segment of the array w/ larger elements\n",
    "    if i==a:\n",
    "        K= K+B[j:]\n",
    "    else:\n",
    "        K= K+A[i:]\n",
    "    return K\n",
    "    "
   ]
  },
  {
   "cell_type": "code",
   "execution_count": 124,
   "metadata": {},
   "outputs": [],
   "source": [
    "#recieves integer input n\n",
    "#opens the file name \"pi\" and reads the first n digits of pi\n",
    "#puts it in the list pi, and returns that list\n",
    "def read_pi(n):\n",
    "    pi = list()\n",
    "    f = open('pi','r')\n",
    "    for i in range(n):\n",
    "        d = f.read(1)\n",
    "        pi.append(int(d))\n",
    "    return pi"
   ]
  },
  {
   "cell_type": "code",
   "execution_count": 125,
   "metadata": {},
   "outputs": [],
   "source": [
    "#2c. Next, plot the following. On the x-axis, you have the numbers n going from 1 to 5000 increasing in\n",
    "#jumps of 100. On the y-axis is the time taken by the two above implementations, part (a) and part (b),\n",
    "#to count the number of inversions in the array An. \n",
    "\n",
    "#lists to store all runtime data\n",
    "\n",
    "\n",
    "#iterate through cases of 1 to 5000 digits of pi, incremented in 100s\n",
    "for i in range(1, 5001,100):\n",
    "    pi_digits = read_pi(i)\n",
    "    \n",
    "    #timing naive algorithm\n",
    "    time_naive_start = time.time()\n",
    "    NaiveInversions(pi_digits)\n",
    "    time_naive_end = time.time()\n",
    "    time_naive.append(time_naive_end-time_naive_start)\n",
    "    \n",
    "    #timing efficient algorithm\n",
    "    time_better_start = time.time()\n",
    "    SortAndCount(pi_digits)\n",
    "    time_better_end = time.time()\n",
    "    time_better.append(time_better_end-time_better_start)"
   ]
  },
  {
   "cell_type": "code",
   "execution_count": 129,
   "metadata": {},
   "outputs": [
    {
     "data": {
      "image/png": "[encoded data removed]",
      "text/plain": [
       "<Figure size 432x288 with 1 Axes>"
      ]
     },
     "metadata": {
      "needs_background": "light"
     },
     "output_type": "display_data"
    }
   ],
   "source": [
    "# plot the stored data\n",
    "x = np.arange(1, 5001, 100)\n",
    "\n",
    "plt.plot(x, time_naive, x, time_better)\n",
    "plt.title(\"Algorithm Runtime Comparison\")\n",
    "plt.xlabel(\"number of digits\")\n",
    "plt.ylabel(\"runtime / seconds\")\n",
    "plt.legend(['Naive Inversion', 'Sort And Count'])\n",
    "plt.show()"
   ]
  },
  {
   "cell_type": "code",
   "execution_count": 127,
   "metadata": {},
   "outputs": [
    {
     "data": {
      "text/plain": [
       "([1, 1, 2, 3, 3, 4, 5, 5, 6, 9], 15)"
      ]
     },
     "execution_count": 127,
     "metadata": {},
     "output_type": "execute_result"
    }
   ],
   "source": [
    "#test accuracy on 10 digits- to help you check if your code is giving the correct answer, you should first run\n",
    "#on an array with the first 10 digits of π. Your answer should be 15.\n",
    "\n",
    "pi_digits = read_pi(10)\n",
    "SortAndCount(pi_digits)"
   ]
  },
  {
   "cell_type": "code",
   "execution_count": 128,
   "metadata": {},
   "outputs": [
    {
     "name": "stdout",
     "output_type": "stream",
     "text": [
      "224964173233\n"
     ]
    }
   ],
   "source": [
    "#2d) What is the number of inversions in A1000000, that is, what is the number of inversions in the first\n",
    "#million digits of π? \n",
    "\n",
    "pi_digits = read_pi(1000000)\n",
    "print(SortAndCount(pi_digits)[1])"
   ]
  },
  {
   "cell_type": "markdown",
   "metadata": {},
   "source": [
    "number of inversions in the first 1 million pi digits: 224964173233"
   ]
  }
 ],
 "metadata": {
  "kernelspec": {
   "display_name": "Python 3 (ipykernel)",
   "language": "python",
   "name": "python3"
  },
  "language_info": {
   "codemirror_mode": {
    "name": "ipython",
    "version": 3
   },
   "file_extension": ".py",
   "mimetype": "text/x-python",
   "name": "python",
   "nbconvert_exporter": "python",
   "pygments_lexer": "ipython3",
   "version": "3.7.11"
  }
 },
 "nbformat": 4,
 "nbformat_minor": 4
}
