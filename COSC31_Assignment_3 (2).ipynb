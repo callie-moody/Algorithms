{
  "nbformat": 4,
  "nbformat_minor": 0,
  "metadata": {
    "colab": {
      "name": "COSC31 Assignment 3.ipynb",
      "provenance": [],
      "collapsed_sections": []
    },
    "kernelspec": {
      "name": "python3",
      "display_name": "Python 3"
    },
    "language_info": {
      "name": "python"
    }
  },
  "cells": [
    {
      "cell_type": "markdown",
      "source": [
        "*Problem 1. (20 points)*\n",
        "Call a number n cube-summable if it can be expressed as a sum of distinct positive perfect cubes. So,\n",
        "the number 9 is cube-summable since 9 = 1^3 + 2^3, but the number 2 is not. In this coding assignment you\n",
        "have to find out how many cube-summable numbers are there between 1 and a million?\n",
        "\n",
        "*a.* In your pdf file/iPython notebook, clearly write down how the above problem is a special case of the\n",
        "SUBSETSUM problem. So in particular, you have to write what the a1,a2,...,an’s are, how many\n",
        "(the n) of them there are, and what the target B is, which will allow you to answer this question. (4\n",
        "points)\n"
      ],
      "metadata": {
        "id": "ihlMLWM4BZ-3"
      }
    },
    {
      "cell_type": "markdown",
      "source": [
        "This is a special case of the subset sum problem because you are still searching set of integers An for a subset that will add to an input x. However, here instead the integers being searched only consist of positive cubes smaller than x. \n",
        "\n",
        "An array= {1,8,27,64...,floor(cube root (x)) ^3}\n",
        "There should be n= floor(cube root (x)) elements in this subarray. \n",
        "\n",
        "The target B is simply inputted number, x. "
      ],
      "metadata": {
        "id": "0M877plNBkLA"
      }
    },
    {
      "cell_type": "markdown",
      "source": [
        "b. Implement the dynamic programming algorithm for SUBSETSUM problem, and use your above argument to find the number of cube-summable numbers among the first million numbers (inclusive).\n",
        "How much time, in seconds, did your code take to find the answer? Submit all your code (15 points)\n"
      ],
      "metadata": {
        "id": "f7NVQZo7A9Dq"
      }
    },
    {
      "cell_type": "code",
      "source": [
        "import math\n",
        "import numpy\n",
        "\n",
        "def CubeSum(x):\n",
        "  F=numpy.zeros((math.floor(x**(1/3))+1, x+1)) #DP array: F[a][b] holds val for if a cubesum exists that adds to b, using only cubes smaller than a\n",
        "  #set base cases\n",
        "  for i in range (1,x+1):\n",
        "    F[0][i]=0  #empty subset cannot add to a pos number\n",
        "  for i in range(0,math.floor(x**(1/3))+1):\n",
        "    F[i][0]=1 #0*every element in a subset always can add to 0\n",
        "\n",
        "  for i in range(1,x+1):\n",
        "    for j in range(1,math.floor(x**(1/3))+1): #covers all recursive cases\n",
        "      if i-j**3 < 0: #if cube is too large, cannot be in the sum\n",
        "        F[j][i]=F[j-1][i]\n",
        "      else:\n",
        "        F[j][i]=max(F[j-1][i],F[j-1][i-j**3]) #1 if cube summable, 0 if not\n",
        "  \n",
        "  num_summable=0\n",
        "  for i in range(1,x+1): #finds number of values <=x that are cube summable\n",
        "    if F[math.floor(x**(1/3))][i] == 1:\n",
        "      num_summable+=1\n",
        "  \n",
        "\n",
        "  return num_summable\n",
        "\n",
        "\n",
        "\n",
        "CubeSum(1000000) #This will output the number of cube summable numbers\n",
        "\n",
        "#This took 142 seconds"
      ],
      "metadata": {
        "id": "Pcw6CUZFDKvu",
        "colab": {
          "base_uri": "https://localhost:8080/"
        },
        "outputId": "fa3252dd-d765-4111-c984-1fd83ffde54a"
      },
      "execution_count": null,
      "outputs": [
        {
          "output_type": "execute_result",
          "data": {
            "text/plain": [
              "997212"
            ]
          },
          "metadata": {},
          "execution_count": 68
        }
      ]
    },
    {
      "cell_type": "markdown",
      "source": [
        "c. Now that you have coded everything up, hopefully you can easily find the number of cube-summable\n",
        "numbers among the first half a million. Do you note something interesting? If you do, write this\n",
        "down as well. (1 point)\n"
      ],
      "metadata": {
        "id": "2xwZygiyBAW2"
      }
    },
    {
      "cell_type": "code",
      "source": [
        "CubeSum(500000) \n",
        "#interestingly, there are 500000 numbers less cube summable here. \n",
        "#This means every number from 500000-1000000 is cube summable"
      ],
      "metadata": {
        "id": "3jM1LCVTJGHU",
        "colab": {
          "base_uri": "https://localhost:8080/"
        },
        "outputId": "30468fd3-22a2-4ebf-aea5-eb305adade9d"
      },
      "execution_count": null,
      "outputs": [
        {
          "output_type": "execute_result",
          "data": {
            "text/plain": [
              "497212"
            ]
          },
          "metadata": {},
          "execution_count": 64
        }
      ]
    },
    {
      "cell_type": "markdown",
      "source": [
        "Problem 2. (20 points)\n",
        "In this coding assignment you have to write code to find the edit distance between two strings, and also to\n",
        "recover the best way to go from one string to the other. showing the journey. For example if s = math and\n",
        "t = easy, then your output should be the number 3 followed by the sequence (math,maty,masy,easy).\n"
      ],
      "metadata": {
        "id": "wlc-3YriBDhp"
      }
    },
    {
      "cell_type": "code",
      "source": [
        "#Importing pretty print for debugging purposes\n",
        "import pprint\n",
        "\n",
        "#Edit Distance (non-recovery)\n",
        "def ED(s,t):\n",
        "  \n",
        "  # lowercase everything\n",
        "  s = s.lower()\n",
        "  t = t.lower()\n",
        "\n",
        "  #define length vars\n",
        "  m = len(s)\n",
        "  n = len(t)\n",
        "\n",
        "  # <------ testing statements ------>\n",
        "  # print(\"this is m\", m)\n",
        "  # print(\"this is n\", n, \"\\n\")\n",
        "  # <------ testing statements ------>\n",
        "\n",
        "  #pad data in E matrix\n",
        "  E = [[None for j in range(n+1)] for i in range(m+1)]\n",
        "\n",
        "  # <------ testing statements ------>\n",
        "  # print(\"this is E: \")\n",
        "  # pprint.pprint(E)\n",
        "  # <------ testing statements ------>\n",
        "\n",
        "  #base cases\n",
        "  for j in range(n+1):\n",
        "    E[0][j] = j\n",
        "  for i in range(m+1):\n",
        "    E[i][0] = i\n",
        "\n",
        "  # <------ testing statements ------>\n",
        "  # print(\"this is E: \")\n",
        "  # pprint.pprint(E)\n",
        "  # <------ testing statements ------>\n",
        "\n",
        "  #two for loops and the determination of the edit distance based on the three reccurence relations\n",
        "  for i in range(1,m+1):\n",
        "    for j in range(1,n+1):\n",
        "\n",
        "      # <------ testing statements ------>\n",
        "      # print(\"this is i \",i) #testing statements\n",
        "      # print(\"this is j \",j) #testing statements\n",
        "      # <------ testing statements ------>\n",
        "\n",
        "      #defining the indicator variable\n",
        "      if s[i-1] == t[j-1]:\n",
        "        indicator_1 = 1\n",
        "      else:\n",
        "        indicator_1 = 0\n",
        "      \n",
        "      #finding the min of the three editing cases\n",
        "      E[i][j] = min( [E[i-1][j]+1, E[i][j-1]+1, (1-indicator_1)+E[i-1][j-1]] )\n",
        "\n",
        "      # <------ testing statements ------>\n",
        "      # print(\"this is E in the for loop: \")\n",
        "      # pprint.pprint(E) #testing statements\n",
        "      # <------ testing statements ------>\n",
        "  \n",
        "  return (E,E[m][n])  #returning the tuple of E, as well as the final edit distance between s and t\n",
        "\n",
        "#Edit Distance (recovery)\n",
        "def ED_recovery(s,t,E):\n",
        "\n",
        "  # lowercase everything\n",
        "  s = s.lower()\n",
        "  t = t.lower()\n",
        "\n",
        "  #define length vars\n",
        "  m = len(s)\n",
        "  n = len(t)\n",
        "\n",
        "  # iter variables and the edit list to return\n",
        "  i = m\n",
        "  j = n\n",
        "  edit = [s]\n",
        "\n",
        "  while i > 0 and j > 0:\n",
        "\n",
        "    # <------ testing statements ------>\n",
        "    # print(edit)\n",
        "    # <------ testing statements ------>\n",
        "\n",
        "    # getting the last edit\n",
        "    prev_edit = edit[-1]\n",
        "\n",
        "    # defining the indicator variable\n",
        "    if s[i-1] == t[j-1]:\n",
        "      indicator_1 = 1\n",
        "    else:\n",
        "      indicator_1 = 0\n",
        "\n",
        "    # all three cases\n",
        "    if E[i][j] == (1-indicator_1)+E[i-1][j-1]: # case 1 sub\n",
        "      # <------ testing statements ------>\n",
        "      # print(\"Case 1\")\n",
        "      # <------ testing statements ------>\n",
        "      if indicator_1 == 0:\n",
        "        edit.append(prev_edit[:i-1]+t[j-1]+prev_edit[i:])\n",
        "      i = i-1\n",
        "      j = j-1\n",
        "\n",
        "    elif E[i][j] == 1+E[i-1][j]: # case 2 del\n",
        "      # <------ testing statements ------>\n",
        "      # print(\"Case 2\")\n",
        "      # <------ testing statements ------>\n",
        "      edit.append(prev_edit[:i-1]+prev_edit[i:])\n",
        "      i = i-1\n",
        "\n",
        "    else: # case 3 ins\n",
        "      # <------ testing statements ------>\n",
        "      # print(\"Case 3\")\n",
        "      # <------ testing statements ------>\n",
        "      edit.append(prev_edit[:i]+t[j-1]+prev_edit[i:])\n",
        "      j = j-1\n",
        "  \n",
        "  # if we have ran through all the character changes possible compared to t and have a subsequence that is t, proceed to delete all other characters in s that aren't in such subsequence\n",
        "  while i > 0:\n",
        "    prev_edit = edit[-1]\n",
        "    edit.append(prev_edit[:i-1]+prev_edit[i:])\n",
        "    i = i-1\n",
        "  \n",
        "  # if we have ran through all the character changes possible compared to s and just need to add a subsequence in t, proceed to insert all other characters in t that aren't in s yet\n",
        "  while j > 0:\n",
        "    prev_edit = edit[-1]\n",
        "    edit.append(prev_edit[:i]+t[j-1]+prev_edit[i:])\n",
        "    j = j-1\n",
        "\n",
        "  return edit\n"
      ],
      "metadata": {
        "id": "OrlqnF5vfR6d"
      },
      "execution_count": null,
      "outputs": []
    },
    {
      "cell_type": "markdown",
      "source": [
        "a. What is the edit distance between your name and your favorite animal (if you are partnering, then do\n",
        "it for both)? Show the journey. (3 points)\n",
        "My code returns 6 and (deeparnab,deeparna,deepana,deeana,deuana,dguana,iguana)\n"
      ],
      "metadata": {
        "id": "THnGuhI1BHvP"
      }
    },
    {
      "cell_type": "code",
      "source": [
        "# <------ testing statements ------>\n",
        "ED_0 = ED(\"Deeparnab\",\"Iguana\")\n",
        "print(\"Test: Deeparnab and Iguana edit distance: \", ED_0[1])\n",
        "print(ED_recovery(\"Deeparnab\", \"Iguana\",ED_0[0]),\"\\n\")\n",
        "# <------ testing statements ------>\n",
        "\n",
        "# Perry's favorite animal and editing\n",
        "ED_1 = ED(\"Perry\",\"Chinchilla\")\n",
        "print(\"Perry and Chinchilla edit distance: \", ED_1[1])\n",
        "print(ED_recovery(\"Perry\",\"Chinchilla\",ED_1[0]),\"\\n\")\n",
        "\n",
        "# Callie's favorite animal and editing\n",
        "ED_2 = ED(\"Callie\",\"Cat\")\n",
        "print(\"Callie and Cat edit distance: \", ED_2[1])\n",
        "print(ED_recovery(\"Callie\",\"Cat\",ED_2[0]),\"\\n\")\n"
      ],
      "metadata": {
        "colab": {
          "base_uri": "https://localhost:8080/"
        },
        "id": "520WJNz_kORs",
        "outputId": "6384c9ff-29f5-4e1e-db2f-542477bee45a"
      },
      "execution_count": null,
      "outputs": [
        {
          "output_type": "stream",
          "name": "stdout",
          "text": [
            "Test: Deeparnab and Iguana edit distance:  6\n",
            "['deeparnab', 'deeparna', 'deepana', 'deeuana', 'deguana', 'diguana', 'iguana'] \n",
            "\n",
            "Perry and Chinchilla edit distance:  10\n",
            "['perry', 'perra', 'perla', 'pella', 'pilla', 'hilla', 'chilla', 'nchilla', 'inchilla', 'hinchilla', 'chinchilla'] \n",
            "\n",
            "Callie and Cat edit distance:  4\n",
            "['callie', 'callit', 'callt', 'calt', 'cat'] \n",
            "\n"
          ]
        }
      ]
    },
    {
      "cell_type": "markdown",
      "source": [
        "b. You can find a list of countries of the world here: https://www.cs.dartmouth.edu/ ̃deepc/\n",
        "Courses/S20/countries.txt. Your goal is to find a list of all pairs of countries with length\n",
        "≥7 (spaces count) whose edit distance between them is ≤4. Among these pairs, find a pair pf coun-\n",
        "tries whose sum of lengths of names (including space) is as large as possible. That is, these are the\n",
        "“longest countries” which have small edit distance between them. (For fun, before you code take a\n",
        "guess which countries these are). For these two countries also show the journey going from one to the\n",
        "other (for edit distance, not a travel itinerary).\n",
        "To reduce your work, the helper.py file (which you probably have downloaded sometime) includes\n",
        "a read countries() function which returns a list of long named countries. It does need the file\n",
        "countries.txt in the same directory. (7 points)"
      ],
      "metadata": {
        "id": "VLBGZ_zWBKeG"
      }
    },
    {
      "cell_type": "code",
      "source": [
        "# helper function\n",
        "def read_countries():\n",
        "    #opens the file named \"country.txt\" \n",
        "    #returns a list of all countries which are 7 letters or more (counting spaces)\n",
        "    #all lower case\n",
        "    countries = list()\n",
        "    with open(\"countries.txt\") as file:\n",
        "        for line in file: \n",
        "            line = line.strip() #or some other preprocessing\n",
        "            if(len(line) > 6):\n",
        "                c = line.lower()    \n",
        "                countries.append(c)\n",
        "    return countries"
      ],
      "metadata": {
        "id": "1KeA1z-BQ4Ti"
      },
      "execution_count": null,
      "outputs": []
    },
    {
      "cell_type": "code",
      "source": [
        "# part 1: Your goal is to find a list of all pairs of countries with length ≥7 (spaces count) whose edit distance between them is ≤4.\n",
        "\n",
        "countries = read_countries()\n",
        "length_separated_countries = [a for a in countries if len(a)>=7]\n",
        "\n",
        "# <------ testing statements ------>\n",
        "# print(length_separated_countries)\n",
        "# <------ testing statements ------>\n",
        "\n",
        "# getting the pairs by length\n",
        "length_separated_countries_pairs=[]\n",
        "for i in range(len(length_separated_countries)):\n",
        "  for j in range(len(length_separated_countries)):\n",
        "    if i!=j:\n",
        "      length_separated_countries_pairs.append((length_separated_countries[i],length_separated_countries[j]))\n",
        "\n",
        "# <------ testing statements ------>\n",
        "# pprint.pprint(length_separated_countries_pairs)\n",
        "# <------ testing statements ------>\n",
        "\n",
        "# getting the pairs further by edit distance\n",
        "length_and_ed_separated_countries_pairs = [pair for pair in length_separated_countries_pairs if ED(pair[0], pair[1])[1] <= 4 ]\n",
        "\n",
        "# <------ testing statements ------>\n",
        "pprint.pprint(length_and_ed_separated_countries_pairs)\n",
        "# <------ testing statements ------>\n"
      ],
      "metadata": {
        "colab": {
          "base_uri": "https://localhost:8080/"
        },
        "id": "0aKd8PBSQ8ZH",
        "outputId": "73f709b7-11e2-4677-e53b-d7d4ee042535"
      },
      "execution_count": null,
      "outputs": [
        {
          "output_type": "stream",
          "name": "stdout",
          "text": [
            "[('albania', 'algeria'),\n",
            " ('albania', 'armenia'),\n",
            " ('albania', 'austria'),\n",
            " ('albania', 'bulgaria'),\n",
            " ('albania', 'cambodia'),\n",
            " ('albania', 'croatia'),\n",
            " ('albania', 'estonia'),\n",
            " ('albania', 'lebanon'),\n",
            " ('albania', 'liberia'),\n",
            " ('albania', 'malaysia'),\n",
            " ('albania', 'romania'),\n",
            " ('albania', 'slovakia'),\n",
            " ('albania', 'slovenia'),\n",
            " ('albania', 'somalia'),\n",
            " ('albania', 'tanzania'),\n",
            " ('algeria', 'albania'),\n",
            " ('algeria', 'andorra'),\n",
            " ('algeria', 'argentina'),\n",
            " ('algeria', 'armenia'),\n",
            " ('algeria', 'austria'),\n",
            " ('algeria', 'bulgaria'),\n",
            " ('algeria', 'georgia'),\n",
            " ('algeria', 'liberia'),\n",
            " ('algeria', 'malaysia'),\n",
            " ('algeria', 'nigeria'),\n",
            " ('algeria', 'slovenia'),\n",
            " ('andorra', 'algeria'),\n",
            " ('andorra', 'antigua'),\n",
            " ('andorra', 'austria'),\n",
            " ('antigua', 'andorra'),\n",
            " ('argentina', 'algeria'),\n",
            " ('argentina', 'armenia'),\n",
            " ('armenia', 'albania'),\n",
            " ('armenia', 'algeria'),\n",
            " ('armenia', 'argentina'),\n",
            " ('armenia', 'austria'),\n",
            " ('armenia', 'croatia'),\n",
            " ('armenia', 'dominica'),\n",
            " ('armenia', 'estonia'),\n",
            " ('armenia', 'grenada'),\n",
            " ('armenia', 'liberia'),\n",
            " ('armenia', 'namibia'),\n",
            " ('armenia', 'nigeria'),\n",
            " ('armenia', 'romania'),\n",
            " ('armenia', 'slovenia'),\n",
            " ('armenia', 'somalia'),\n",
            " ('armenia', 'tanzania'),\n",
            " ('australia', 'austria'),\n",
            " ('australia', 'somalia'),\n",
            " ('austria', 'albania'),\n",
            " ('austria', 'algeria'),\n",
            " ('austria', 'andorra'),\n",
            " ('austria', 'armenia'),\n",
            " ('austria', 'australia'),\n",
            " ('austria', 'bulgaria'),\n",
            " ('austria', 'eritrea'),\n",
            " ('austria', 'estonia'),\n",
            " ('austria', 'liberia'),\n",
            " ('austria', 'nigeria'),\n",
            " ('austria', 'tunisia'),\n",
            " ('bahamas', 'bahrain'),\n",
            " ('bahamas', 'barbados'),\n",
            " ('bahamas', 'belarus'),\n",
            " ('bahrain', 'bahamas'),\n",
            " ('bahrain', 'burkina'),\n",
            " ('bahrain', 'ukraine'),\n",
            " ('barbados', 'bahamas'),\n",
            " ('belarus', 'bahamas'),\n",
            " ('belarus', 'belgium'),\n",
            " ('belarus', 'bulgaria'),\n",
            " ('belgium', 'belarus'),\n",
            " ('bolivia', 'bulgaria'),\n",
            " ('bolivia', 'colombia'),\n",
            " ('bolivia', 'dominica'),\n",
            " ('bolivia', 'moldova'),\n",
            " ('bolivia', 'namibia'),\n",
            " ('bolivia', 'romania'),\n",
            " ('bolivia', 'somalia'),\n",
            " ('bolivia', 'tunisia'),\n",
            " ('bulgaria', 'albania'),\n",
            " ('bulgaria', 'algeria'),\n",
            " ('bulgaria', 'austria'),\n",
            " ('bulgaria', 'belarus'),\n",
            " ('bulgaria', 'bolivia'),\n",
            " ('bulgaria', 'hungary'),\n",
            " ('bulgaria', 'nigeria'),\n",
            " ('burkina', 'bahrain'),\n",
            " ('burkina', 'burundi'),\n",
            " ('burkina', 'suriname'),\n",
            " ('burkina', 'ukraine'),\n",
            " ('burundi', 'burkina'),\n",
            " ('cambodia', 'albania'),\n",
            " ('cambodia', 'namibia'),\n",
            " ('cameroon', 'comoros'),\n",
            " ('colombia', 'bolivia'),\n",
            " ('colombia', 'croatia'),\n",
            " ('comoros', 'cameroon'),\n",
            " ('croatia', 'albania'),\n",
            " ('croatia', 'armenia'),\n",
            " ('croatia', 'colombia'),\n",
            " ('croatia', 'georgia'),\n",
            " ('croatia', 'romania'),\n",
            " ('croatia', 'slovakia'),\n",
            " ('croatia', 'somalia'),\n",
            " ('denmark', 'germany'),\n",
            " ('denmark', 'hungary'),\n",
            " ('denmark', 'myanmar'),\n",
            " ('dominica', 'armenia'),\n",
            " ('dominica', 'bolivia'),\n",
            " ('dominica', 'jamaica'),\n",
            " ('dominica', 'namibia'),\n",
            " ('dominica', 'romania'),\n",
            " ('dominica', 'somalia'),\n",
            " ('eritrea', 'austria'),\n",
            " ('estonia', 'albania'),\n",
            " ('estonia', 'armenia'),\n",
            " ('estonia', 'austria'),\n",
            " ('estonia', 'ethiopia'),\n",
            " ('estonia', 'romania'),\n",
            " ('estonia', 'slovenia'),\n",
            " ('ethiopia', 'estonia'),\n",
            " ('finland', 'iceland'),\n",
            " ('finland', 'ireland'),\n",
            " ('finland', 'thailand'),\n",
            " ('georgia', 'algeria'),\n",
            " ('georgia', 'croatia'),\n",
            " ('georgia', 'nigeria'),\n",
            " ('germany', 'denmark'),\n",
            " ('grenada', 'armenia'),\n",
            " ('grenada', 'ireland'),\n",
            " ('hungary', 'bulgaria'),\n",
            " ('hungary', 'denmark'),\n",
            " ('iceland', 'finland'),\n",
            " ('iceland', 'ireland'),\n",
            " ('iceland', 'thailand'),\n",
            " ('indonesia', 'micronesia'),\n",
            " ('ireland', 'finland'),\n",
            " ('ireland', 'grenada'),\n",
            " ('ireland', 'iceland'),\n",
            " ('ireland', 'thailand'),\n",
            " ('jamaica', 'dominica'),\n",
            " ('jamaica', 'namibia'),\n",
            " ('jamaica', 'romania'),\n",
            " ('jamaica', 'somalia'),\n",
            " ('kazakhstan', 'pakistan'),\n",
            " ('kazakhstan', 'tajikistan'),\n",
            " ('lebanon', 'albania'),\n",
            " ('liberia', 'albania'),\n",
            " ('liberia', 'algeria'),\n",
            " ('liberia', 'armenia'),\n",
            " ('liberia', 'austria'),\n",
            " ('liberia', 'nigeria'),\n",
            " ('liberia', 'slovenia'),\n",
            " ('malaysia', 'albania'),\n",
            " ('malaysia', 'algeria'),\n",
            " ('maldives', 'moldova'),\n",
            " ('mauritania', 'mauritius'),\n",
            " ('mauritius', 'mauritania'),\n",
            " ('micronesia', 'indonesia'),\n",
            " ('moldova', 'bolivia'),\n",
            " ('moldova', 'maldives'),\n",
            " ('moldova', 'mongolia'),\n",
            " ('mongolia', 'moldova'),\n",
            " ('mongolia', 'somalia'),\n",
            " ('myanmar', 'denmark'),\n",
            " ('namibia', 'armenia'),\n",
            " ('namibia', 'bolivia'),\n",
            " ('namibia', 'cambodia'),\n",
            " ('namibia', 'dominica'),\n",
            " ('namibia', 'jamaica'),\n",
            " ('namibia', 'nigeria'),\n",
            " ('namibia', 'romania'),\n",
            " ('namibia', 'somalia'),\n",
            " ('namibia', 'tunisia'),\n",
            " ('nicaragua', 'paraguay'),\n",
            " ('nigeria', 'algeria'),\n",
            " ('nigeria', 'armenia'),\n",
            " ('nigeria', 'austria'),\n",
            " ('nigeria', 'bulgaria'),\n",
            " ('nigeria', 'georgia'),\n",
            " ('nigeria', 'liberia'),\n",
            " ('nigeria', 'namibia'),\n",
            " ('pakistan', 'kazakhstan'),\n",
            " ('pakistan', 'tajikistan'),\n",
            " ('pakistan', 'uzbekistan'),\n",
            " ('paraguay', 'nicaragua'),\n",
            " ('paraguay', 'uruguay'),\n",
            " ('romania', 'albania'),\n",
            " ('romania', 'armenia'),\n",
            " ('romania', 'bolivia'),\n",
            " ('romania', 'croatia'),\n",
            " ('romania', 'dominica'),\n",
            " ('romania', 'estonia'),\n",
            " ('romania', 'jamaica'),\n",
            " ('romania', 'namibia'),\n",
            " ('romania', 'slovakia'),\n",
            " ('romania', 'slovenia'),\n",
            " ('romania', 'somalia'),\n",
            " ('romania', 'tanzania'),\n",
            " ('slovakia', 'albania'),\n",
            " ('slovakia', 'croatia'),\n",
            " ('slovakia', 'romania'),\n",
            " ('slovakia', 'slovenia'),\n",
            " ('slovakia', 'somalia'),\n",
            " ('slovenia', 'albania'),\n",
            " ('slovenia', 'algeria'),\n",
            " ('slovenia', 'armenia'),\n",
            " ('slovenia', 'estonia'),\n",
            " ('slovenia', 'liberia'),\n",
            " ('slovenia', 'romania'),\n",
            " ('slovenia', 'slovakia'),\n",
            " ('slovenia', 'somalia'),\n",
            " ('somalia', 'albania'),\n",
            " ('somalia', 'armenia'),\n",
            " ('somalia', 'australia'),\n",
            " ('somalia', 'bolivia'),\n",
            " ('somalia', 'croatia'),\n",
            " ('somalia', 'dominica'),\n",
            " ('somalia', 'jamaica'),\n",
            " ('somalia', 'mongolia'),\n",
            " ('somalia', 'namibia'),\n",
            " ('somalia', 'romania'),\n",
            " ('somalia', 'slovakia'),\n",
            " ('somalia', 'slovenia'),\n",
            " ('suriname', 'burkina'),\n",
            " ('swaziland', 'switzerland'),\n",
            " ('swaziland', 'thailand'),\n",
            " ('switzerland', 'swaziland'),\n",
            " ('tajikistan', 'kazakhstan'),\n",
            " ('tajikistan', 'pakistan'),\n",
            " ('tajikistan', 'uzbekistan'),\n",
            " ('tanzania', 'albania'),\n",
            " ('tanzania', 'armenia'),\n",
            " ('tanzania', 'romania'),\n",
            " ('tanzania', 'tunisia'),\n",
            " ('thailand', 'finland'),\n",
            " ('thailand', 'iceland'),\n",
            " ('thailand', 'ireland'),\n",
            " ('thailand', 'swaziland'),\n",
            " ('tunisia', 'austria'),\n",
            " ('tunisia', 'bolivia'),\n",
            " ('tunisia', 'namibia'),\n",
            " ('tunisia', 'tanzania'),\n",
            " ('ukraine', 'bahrain'),\n",
            " ('ukraine', 'burkina'),\n",
            " ('uruguay', 'paraguay'),\n",
            " ('uzbekistan', 'pakistan'),\n",
            " ('uzbekistan', 'tajikistan')]\n"
          ]
        }
      ]
    },
    {
      "cell_type": "code",
      "source": [
        "# part 2: Among these pairs, find a pair pf coun- tries whose sum of lengths of names (including space) is as large as possible.\n",
        "\n",
        "# keep track of max_length and corresponding tuple of countries\n",
        "max_length = -1\n",
        "longest_pair = None\n",
        "\n",
        "for pair in length_and_ed_separated_countries_pairs:\n",
        "  if (len(pair[0]) + len(pair[1])) > max_length:\n",
        "    max_length = len(pair[0]) + len(pair[1])\n",
        "    longest_pair = pair\n",
        "\n",
        "print(\"The longest pair is :\", longest_pair, \"with \", str(len(pair[0]) + len(pair[1])), \" characters\")"
      ],
      "metadata": {
        "colab": {
          "base_uri": "https://localhost:8080/"
        },
        "id": "b1dMQj1jSK6M",
        "outputId": "f1c8852e-7b2f-4896-87cd-ea3b3e809066"
      },
      "execution_count": null,
      "outputs": [
        {
          "output_type": "stream",
          "name": "stdout",
          "text": [
            "The longest pair is : ('kazakhstan', 'tajikistan') with  20  characters\n"
          ]
        }
      ]
    },
    {
      "cell_type": "markdown",
      "source": [
        "Problem 3. (30 points)\n",
        "As in Coding Assignment 1, for a positve integer n, define Anto be the array of single-digit non-negative\n",
        "integers containing the first n digits of π. So A1 = [3], A2 = [3,1], and so on. You have to write code which\n",
        "takes input n and finds the length of the longest increasing subsequence in An. You should also implement\n",
        "such that if asked for (via setting a flag, say), the code should also be able to return a longest increasing\n",
        "subsequence as well.\n",
        "1\n",
        "For instance, on n = 10, the array A10 is [3,1,4,1,5,9,2,6,5,3]. Your code should return the answer 4,\n",
        "and if a flag is raised, return (4,[1,1,5,9]). It is also ok if it returns (4,[3,4,5,5]). There can be many\n",
        "subsequences which are longest; only one is required.\n",
        "For part (b) the “naive” implementation of LIS may suffice. For part (c), I am not sure.\n",
        "\n",
        "\n",
        "a. Write down an LIS of A100, that is, any longest increasing subsequence of the first hundred digits of\n",
        "π? Submit your code. (5 points)\n"
      ],
      "metadata": {
        "id": "wthwAMC2BPeq"
      }
    },
    {
      "cell_type": "code",
      "source": [
        "# pi function\n",
        "def read_pi(n):\n",
        "    #opens the file name \"pi\" and reads the first n digits\n",
        "    #puts it in the list pi, and returns that list\n",
        "    pi = list()\n",
        "    f = open('pi','r')\n",
        "    for i in range(n):\n",
        "        d = f.read(1)\n",
        "        pi.append(int(d))\n",
        "    return pi\n",
        "\n",
        "\n",
        "def LISpi(n,flag):\n",
        "  An=read_pi(n)\n",
        "  An.append(0)\n",
        "  L=numpy.zeros(n+1) #DP array\n",
        "  parents=numpy.zeros(n+1) #holds parent info to backtrace easily\n",
        "  numindices=numpy.zeros(10) #array 0-9 that holds index of latest occurrence of each int\n",
        "  L[0]=0 #Base Case\n",
        "  for i in range(1,n+1):\n",
        "    x=int(numindices[0])\n",
        "    for j in range(1,An[i]+1): #the previous digit such the sequence length is maximized and An[i] can be added on\n",
        "      y=int(numindices[j])\n",
        "      if L[y]>L[x]: #finds the max sequence length\n",
        "        x=y\n",
        "    L[i]=1+L[x]\n",
        "    numindices[An[i]]=i\n",
        "    parents[i]=x\n",
        "\n",
        "  maxindex=0\n",
        "  for i in range(1,n+1): #find the final LIS\n",
        "    if L[i]>L[maxindex]:\n",
        "      maxindex=i\n",
        "\n",
        "  #flag to return subsequence\n",
        "  sequence=[]\n",
        "  if flag==1:\n",
        "    x=maxindex\n",
        "    while x>0 :\n",
        "      sequence.insert(0,An[x])\n",
        "      x=parents[x]\n",
        "      x=int(x)\n",
        "\n",
        "  return L[maxindex], sequence\n",
        "\n",
        "\n",
        "\n",
        "LISpi(100,1)"
      ],
      "metadata": {
        "colab": {
          "base_uri": "https://localhost:8080/"
        },
        "id": "llro4XgnJgTO",
        "outputId": "d401f88e-16b1-4ed2-d3e5-7e6efbd1b5c2"
      },
      "execution_count": null,
      "outputs": [
        {
          "output_type": "execute_result",
          "data": {
            "text/plain": [
              "(22.0, [1, 1, 2, 3, 3, 3, 3, 3, 3, 3, 3, 4, 4, 4, 5, 6, 6, 6, 8, 8, 8, 8])"
            ]
          },
          "metadata": {},
          "execution_count": 70
        }
      ]
    },
    {
      "cell_type": "markdown",
      "source": [
        "b. What is the length of an LIS of A10000? That is, the length of the longest increasing subsequence in\n",
        "the first ten thousand digits of π? Submit your code (15 points)\n"
      ],
      "metadata": {
        "id": "Mn6brD4XBWZ6"
      }
    },
    {
      "cell_type": "code",
      "source": [
        "LISpi(10000,0)"
      ],
      "metadata": {
        "id": "iPgKlR6UM-o1",
        "colab": {
          "base_uri": "https://localhost:8080/"
        },
        "outputId": "129c70b2-5004-4968-87e0-6fd7e7234812"
      },
      "execution_count": null,
      "outputs": [
        {
          "output_type": "execute_result",
          "data": {
            "text/plain": [
              "(1136.0, [])"
            ]
          },
          "metadata": {},
          "execution_count": 66
        }
      ]
    },
    {
      "cell_type": "markdown",
      "source": [
        "c. What is the length of the longest increasing subsequence of the first million digits of π? Submit your\n",
        "code. (10 points)"
      ],
      "metadata": {
        "id": "ZxKBaYG1BXmr"
      }
    },
    {
      "cell_type": "code",
      "source": [
        "LISpi(1000000,0)"
      ],
      "metadata": {
        "id": "EEDDZDPgM-Ct",
        "colab": {
          "base_uri": "https://localhost:8080/"
        },
        "outputId": "9a6b56f2-cde8-4c50-b0f1-7aed5f58b3ba"
      },
      "execution_count": null,
      "outputs": [
        {
          "output_type": "execute_result",
          "data": {
            "text/plain": [
              "(101892.0, [])"
            ]
          },
          "metadata": {},
          "execution_count": 67
        }
      ]
    }
  ]
}