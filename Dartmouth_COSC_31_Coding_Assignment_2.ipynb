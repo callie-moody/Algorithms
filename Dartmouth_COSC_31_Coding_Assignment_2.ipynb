{
  "nbformat": 4,
  "nbformat_minor": 0,
  "metadata": {
    "colab": {
      "name": "Dartmouth COSC 31 Coding Assignment 2.ipynb",
      "provenance": [],
      "collapsed_sections": []
    },
    "kernelspec": {
      "name": "python3",
      "display_name": "Python 3"
    },
    "language_info": {
      "name": "python"
    }
  },
  "cells": [
    {
      "cell_type": "markdown",
      "source": [
        "Coding Assignment 2\n",
        "\n",
        "\n",
        "Callie Moody and Perry Zhang\n",
        "\n",
        "Credit Statement: we worked with each other and did not attend office hours"
      ],
      "metadata": {
        "id": "5IVtjbX5lswq"
      }
    },
    {
      "cell_type": "code",
      "execution_count": null,
      "metadata": {
        "id": "Qh7oNFvLrs4L"
      },
      "outputs": [],
      "source": [
        "# a)\n",
        "import math\n",
        "\n",
        "#global counting variables\n",
        "NaiveCount=0\n",
        "KaratCount=0\n",
        "\n",
        "\n",
        "def NaiveMultPoly(P,Q):\n",
        "  n= len(P)-1\n",
        "  r=[]\n",
        "  global NaiveCount\n",
        "  #iterates through all possible powers of x in the product\n",
        "  for i in range(2*n+1):\n",
        "    a=0\n",
        "    if i<=n:\n",
        "      #if i is small, powers higher than i that cannot be multiplied to reach the ith power\n",
        "      for k in range(i+1):\n",
        "        #every possible combo to reach power i\n",
        "        a+= P[k]*Q[i-k]\n",
        "        NaiveCount += 1\n",
        "    else:\n",
        "      #if i is large, a tiny power cannot multiply to equal i\n",
        "      for k in range(i-n,n+1):\n",
        "        #every possible combo to reach power i\n",
        "        a+= P[k]*Q[i-k]\n",
        "        NaiveCount += 1\n",
        "    r.append(a)\n",
        "\n",
        "  return r\n",
        "\n",
        "\n",
        "#divide and counter naive functionality\n",
        "#not necessary for this assignment- extra coding \n",
        "def DCMultPoly(P,Q):\n",
        "  n= len(P)\n",
        "  r=[]\n",
        "  global NaiveCount \n",
        "\n",
        "  if n==1:\n",
        "    r.append(P[0]*Q[0])\n",
        "    NaiveCount += 1\n",
        "\n",
        "  else:\n",
        "    m= math.ceil((n)/2)\n",
        "    \n",
        "    p1=P[0:m]\n",
        "    p2=P[m:]\n",
        "    if len(p2)<len(p1):\n",
        "      p2.append(0)\n",
        "    q1=Q[0:m]\n",
        "    q2=Q[m:]\n",
        "    if len(q2)<len(q1):\n",
        "      q2.append(0)\n",
        "    r1=DCMultPoly(p1,q1)\n",
        "    r2=DCMultPoly(p1,q2)\n",
        "    r3=DCMultPoly(p2,q1)\n",
        "    r4=DCMultPoly(p2,q2)\n",
        "    \n",
        "    for  i in range(0,m):\n",
        "      r2.insert(0,0)\n",
        "      r3.insert(0,0)\n",
        "      r4.insert(0,0)\n",
        "      r4.insert(0,0)\n",
        "\n",
        "    for i in range(0,2*n-1):\n",
        "      a=0\n",
        "      if len(r1)>i:\n",
        "        a+=r1[i]\n",
        "        if r1[i]!=0:\n",
        "          NaiveCount += 1\n",
        "      if len(r2)>i:\n",
        "        a+=r2[i]\n",
        "        if r2[i]!=0:\n",
        "          NaiveCount += 1\n",
        "      if len(r3)>i:\n",
        "        a+=r3[i]\n",
        "        if r3[i]!=0:\n",
        "          NaiveCount += 1\n",
        "      if len(r4)>i:\n",
        "        a+=r4[i]\n",
        "        if r4[i]!=0:\n",
        "          NaiveCount += 1\n",
        "\n",
        "      r.append(a)\n",
        "\n",
        "  return r\n",
        "\n",
        "\n"
      ]
    },
    {
      "cell_type": "code",
      "source": [
        "# testing cell\n",
        "NaiveMultPoly([7,2,6],[2,3,9]) "
      ],
      "metadata": {
        "colab": {
          "base_uri": "https://localhost:8080/"
        },
        "outputId": "a4f16af6-a0ba-4ad7-f3a6-64ba2c0f1bdc",
        "id": "HYUyPWlYoKYZ"
      },
      "execution_count": null,
      "outputs": [
        {
          "output_type": "execute_result",
          "data": {
            "text/plain": [
              "[14, 25, 81, 36, 54]"
            ]
          },
          "metadata": {},
          "execution_count": 187
        }
      ]
    },
    {
      "cell_type": "code",
      "source": [
        "# b)\n",
        "def KaratMultPoly(P,Q):\n",
        "  global KaratCount\n",
        "  n = len(P)-1  #if P[0...n] then we have (n+1) elements\n",
        "\n",
        "  #These are the base cases where the length of the polynomial arrays were only 0 and 1\n",
        "  if n == 0:\n",
        "    return [P[0]*Q[0]]\n",
        "    KaratCount +=1\n",
        "  if n == 1:\n",
        "    R = [0 for i in range(3)]\n",
        "    R[0] = P[0]*Q[0]\n",
        "    KaratCount +=1\n",
        "    R[1] = P[0]*Q[1] + Q[0]*P[1]\n",
        "    KaratCount +=1\n",
        "    KaratCount +=1\n",
        "    KaratCount +=1  #should addition here count?\n",
        "    R[2] = P[1]*Q[1]\n",
        "    KaratCount +=1\n",
        "    return R\n",
        "\n",
        "  #defining m and allocating for P' and Q' based on pseudocode\n",
        "  m = int((n+1)/2)\n",
        "  P_prime = [0 for i in range(m+1)]\n",
        "  Q_prime = [0 for i in range(m+1)]\n",
        "\n",
        "  for i in range(m):\n",
        "    P_prime[i] = (P[i] + P[m+i])\n",
        "    KaratCount +=1\n",
        "    Q_prime[i] = (Q[i] + Q[m+i])\n",
        "    KaratCount +=1\n",
        "\n",
        "  #filling P' and Q'\n",
        "  if n > (2*m-1):\n",
        "    P_prime[m] = P[n]\n",
        "    Q_prime[m] = Q[n]\n",
        "  else:\n",
        "    P_prime[m] = Q_prime[m] = 0 #padding the last data with 0\n",
        "\n",
        "  \n",
        "  #allocating space for all three of the R arrays to conduct further polynomial arithmetic\n",
        "  R_1 = [0 for i in range(2*m+1)]\n",
        "  R_2 = [0 for i in range(2*m+1)]\n",
        "  R_3 = [0 for i in range(2*m+1)]\n",
        "\n",
        "  #Using recursion, obtain each of the R arrays. Notice that we are only splicing into certain indices\n",
        "  R_1[0:2*(m-1)+1] = KaratMultPoly(P[0:m],Q[0:m]) \n",
        "  R_2[0:2*(n-m)+1] = KaratMultPoly(P[m:n+1],Q[m:n+1]) \n",
        "  R_3[0:2*m+1] = KaratMultPoly(P_prime[0:m+1],Q_prime[0:m+1])\n",
        "\n",
        "  #allocating space for R_4 and finally the R array that we want\n",
        "  R_4 = [0 for i in range(2*m+1)]\n",
        "  R = [0 for i in range(2*n+1)]\n",
        "\n",
        "  #Fill R_4's indices\n",
        "  for i in range(0,2*m+1):\n",
        "    R_4[i] = (R_3[i] - R_1[i] - R_2[i])\n",
        "    KaratCount +=1\n",
        "    KaratCount +=1\n",
        "\n",
        "  for i in range(0,2*n+1):  #We include if else statements to check on the indices so we don't exceed some of the lists\n",
        "    first_term = 0\n",
        "    second_term = 0\n",
        "    third_term = 0\n",
        "\n",
        "    #first term\n",
        "    if i > len(R_1)-1:  #if we exceed the last index of R[]\n",
        "      first_term = 0\n",
        "    else:\n",
        "      first_term = R_1[i]\n",
        "\n",
        "    #second term\n",
        "    if i-m < 0 or (i-m) > len(R_4)-1:  #if we go below 0 or over index len-1 for R_4\n",
        "      second_term = 0\n",
        "    else:\n",
        "      second_term = R_4[i-m]\n",
        "    \n",
        "    #third term\n",
        "    if i-2*m < 0 or (i-2*m) > len(R_2)-1:  #if we go below 0 or over index len-1 for R_2\n",
        "      third_term = 0\n",
        "    else:\n",
        "      third_term = R_2[i-2*m]\n",
        "\n",
        "    R[i] = (first_term + second_term + third_term)\n",
        "    KaratCount +=1\n",
        "    KaratCount +=1\n",
        "\n",
        "  return R[0:2*n+1]"
      ],
      "metadata": {
        "id": "_JLJb-iuAPWs"
      },
      "execution_count": null,
      "outputs": []
    },
    {
      "cell_type": "code",
      "source": [
        "# testing cell\n",
        "KaratMultPoly([1,2,0],[2,3,9])"
      ],
      "metadata": {
        "colab": {
          "base_uri": "https://localhost:8080/"
        },
        "id": "K7w0XKgHKkj3",
        "outputId": "af2c3e0f-7c90-4f5f-d24a-5b3ffd3353fc"
      },
      "execution_count": null,
      "outputs": [
        {
          "output_type": "execute_result",
          "data": {
            "text/plain": [
              "[2, 7, 15, 18, 0]"
            ]
          },
          "metadata": {},
          "execution_count": 189
        }
      ]
    },
    {
      "cell_type": "code",
      "source": [
        "# testing cell\n",
        "KaratMultPoly([7,2,6],[2,3,9])"
      ],
      "metadata": {
        "colab": {
          "base_uri": "https://localhost:8080/"
        },
        "id": "ooZ4PnJjCDeb",
        "outputId": "3f527939-7b90-4311-e436-84a1a483c3b7"
      },
      "execution_count": null,
      "outputs": [
        {
          "output_type": "execute_result",
          "data": {
            "text/plain": [
              "[14, 25, 81, 36, 54]"
            ]
          },
          "metadata": {},
          "execution_count": 190
        }
      ]
    },
    {
      "cell_type": "code",
      "source": [
        "#  c)\n",
        "# pi function\n",
        "def read_pi(n):\n",
        "    #opens the file name \"pi\" and reads the first n digits\n",
        "    #puts it in the list pi, and returns that list\n",
        "    pi = list()\n",
        "    f = open('pi','r')\n",
        "    for i in range(n):\n",
        "        d = f.read(1)\n",
        "        pi.append(int(d))\n",
        "    return pi\n",
        "\n"
      ],
      "metadata": {
        "id": "GhZeZ_w3bd32"
      },
      "execution_count": null,
      "outputs": []
    },
    {
      "cell_type": "code",
      "source": [
        "#testing cell\n",
        "#step 1: read pi \n",
        "digits_of_pi = read_pi(2)\n",
        "\n",
        "print(digits_of_pi)\n",
        "\n",
        "#step 2: get r_20000_pi(x)\n",
        "r_2_pi = KaratMultPoly(digits_of_pi,digits_of_pi)\n",
        "\n",
        "print(r_2_pi)\n",
        "\n",
        "#step 3: square each digit in the array\n",
        "r_2_pi_squared = [KaratMultPoly([i],[i])[0] for i in r_2_pi]\n",
        "\n",
        "#step 3: sum\n",
        "S_2 = sum(r_2_pi_squared)\n",
        "\n",
        "print('S_2 is ' + str(S_2))"
      ],
      "metadata": {
        "colab": {
          "base_uri": "https://localhost:8080/"
        },
        "id": "QdvR4pidDdTh",
        "outputId": "2378496a-15c3-46c0-8b13-f22eddc39c40"
      },
      "execution_count": null,
      "outputs": [
        {
          "output_type": "stream",
          "name": "stdout",
          "text": [
            "[3, 1]\n",
            "[9, 6, 1]\n",
            "S_2 is 118\n"
          ]
        }
      ]
    },
    {
      "cell_type": "code",
      "source": [
        "# c)\n",
        "#step 1: read pi \n",
        "digits_of_pi = read_pi(20001)\n",
        "\n",
        "#step 2: get r_20000_pi(x)\n",
        "r_20000_pi = KaratMultPoly(digits_of_pi,digits_of_pi)\n",
        "\n",
        "#step 3: square each digit in the array\n",
        "r_20000_pi_squared = [KaratMultPoly([i],[i])[0] for i in r_20000_pi]\n",
        "\n",
        "#step 3: sum\n",
        "S_20000 = sum(r_20000_pi_squared)\n",
        "\n",
        "print('S_20000 is ' + str(S_20000))"
      ],
      "metadata": {
        "colab": {
          "base_uri": "https://localhost:8080/"
        },
        "id": "C-7taM6ODbHp",
        "outputId": "c5346796-6642-41c8-d029-1aff1d47b305"
      },
      "execution_count": null,
      "outputs": [
        {
          "output_type": "stream",
          "name": "stdout",
          "text": [
            "S_20000 is 2193109171093891\n"
          ]
        }
      ]
    },
    {
      "cell_type": "code",
      "source": [
        "#di\n",
        "# Importing libraries\n",
        "import time\n",
        "from matplotlib import pyplot as plt\n",
        "import numpy as np\n",
        "import pprint"
      ],
      "metadata": {
        "id": "AxTuc3M7--cN"
      },
      "execution_count": null,
      "outputs": []
    },
    {
      "cell_type": "code",
      "source": [
        "time_naive = []\n",
        "time_karat = []\n",
        "\n",
        "for i in range(1, 2001, 50):\n",
        "    #step 1: read pi \n",
        "    digits_of_pi = read_pi(i)\n",
        "\n",
        "\n",
        "    #timing naive algorithm\n",
        "    time_naive_start = time.time()\n",
        "    rnaive = NaiveMultPoly(digits_of_pi,digits_of_pi)\n",
        "    time_naive_end = time.time()\n",
        "    time_naive.append(time_naive_end-time_naive_start)\n",
        "    \n",
        "    #timing smart algorithm\n",
        "    time_karat_start = time.time()\n",
        "    rkarat = KaratMultPoly(digits_of_pi,digits_of_pi)\n",
        "    time_karat_end = time.time()\n",
        "    time_karat.append(time_karat_end-time_karat_start)"
      ],
      "metadata": {
        "id": "taniFcjN--yi"
      },
      "execution_count": null,
      "outputs": []
    },
    {
      "cell_type": "code",
      "source": [
        "x = np.arange(1, 2001, 50)\n",
        "\n",
        "plt.plot(x, time_naive, x, time_karat)\n",
        "plt.title(\"Algorithm Runtime Comparison\")\n",
        "plt.xlabel(\"number of digits\")\n",
        "plt.ylabel(\"runtime / seconds\")\n",
        "plt.legend(['Naive Multiplication', 'Karatsuba Multiplication'])\n",
        "plt.show()"
      ],
      "metadata": {
        "colab": {
          "base_uri": "https://localhost:8080/",
          "height": 295
        },
        "id": "VzoNxH4di1vI",
        "outputId": "349a561d-31fa-4e62-8fbb-cc5c8b085ee4"
      },
      "execution_count": null,
      "outputs": [
        {
          "output_type": "display_data",
          "data": {
            "text/plain": [
              "<Figure size 432x288 with 1 Axes>"
            ],
            "image/png": "[encoded data removed]"
          },
          "metadata": {
            "needs_background": "light"
          }
        }
      ]
    },
    {
      "cell_type": "code",
      "source": [
        "#dii\n",
        "count_naive=[]\n",
        "count_karat=[]\n",
        "\n",
        "for i in range(1, 201):\n",
        "    #step 1: read pi \n",
        "    digits_of_pi = read_pi(i)\n",
        "    #timing naive algorithm\n",
        "    rnaive = NaiveMultPoly(digits_of_pi,digits_of_pi)\n",
        "    count_naive.append(NaiveCount)\n",
        "    NaiveCount=0\n",
        "    #timing smart algorithm\n",
        "    rkarat = KaratMultPoly(digits_of_pi,digits_of_pi)\n",
        "    count_karat.append(KaratCount)\n",
        "    KaratCount=0\n",
        "\n"
      ],
      "metadata": {
        "id": "MxiB1y-mdC0o"
      },
      "execution_count": null,
      "outputs": []
    },
    {
      "cell_type": "code",
      "source": [
        "x = np.arange(1, 201)\n",
        "\n",
        "plt.plot(x, count_naive, x, count_karat)\n",
        "plt.title(\"Algorithm Runtime Comparison\")\n",
        "plt.xlabel(\"number of digits\")\n",
        "plt.ylabel(\"arithmetic operations\")\n",
        "plt.legend(['Naive Multiplication', 'Karatsuba Multiplication'])\n",
        "plt.show()"
      ],
      "metadata": {
        "colab": {
          "base_uri": "https://localhost:8080/",
          "height": 295
        },
        "id": "qkn5QzHFjKji",
        "outputId": "b6b798b9-c6c0-4b96-b442-5f3a78590443"
      },
      "execution_count": null,
      "outputs": [
        {
          "output_type": "display_data",
          "data": {
            "text/plain": [
              "<Figure size 432x288 with 1 Axes>"
            ],
            "image/png": "[encoded data removed]"
          },
          "metadata": {
            "needs_background": "light"
          }
        }
      ]
    },
    {
      "cell_type": "code",
      "source": [
        "#diii\n",
        "\n",
        "x = np.arange(1, 201)\n",
        "\n",
        "C=input()\n",
        "C=float(C)\n",
        "if C>0:\n",
        "  plt.plot(x, C*x**(np.log2(3)), x, count_karat)\n",
        "  plt.title(\"Karatsuba Runtime Comparison\")\n",
        "  plt.xlabel(\"number of digits\")\n",
        "  plt.ylabel(\"arithmetic operations\")\n",
        "  plt.legend(['Input Curve', 'Karatsuba Multiplication'])\n",
        "  plt.show()\n"
      ],
      "metadata": {
        "colab": {
          "base_uri": "https://localhost:8080/",
          "height": 313
        },
        "id": "K-NZa0Q1dIDs",
        "outputId": "e0e72691-6f9d-44aa-f08d-a4ef44d9b479"
      },
      "execution_count": null,
      "outputs": [
        {
          "name": "stdout",
          "output_type": "stream",
          "text": [
            "16\n"
          ]
        },
        {
          "output_type": "display_data",
          "data": {
            "text/plain": [
              "<Figure size 432x288 with 1 Axes>"
            ],
            "image/png": "[encoded data removed]"
          },
          "metadata": {
            "needs_background": "light"
          }
        }
      ]
    },
    {
      "cell_type": "markdown",
      "source": [
        "The value of C that most matches our runtime is 15\n",
        "\n",
        "\n",
        "We iterated through many values of C and the two graphs converged at C=15"
      ],
      "metadata": {
        "id": "8Cah30fRzWMc"
      }
    }
  ]
}